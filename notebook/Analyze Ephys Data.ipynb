{
 "cells": [
  {
   "cell_type": "code",
   "execution_count": 1,
   "metadata": {},
   "outputs": [],
   "source": [
    "import datajoint as dj"
   ]
  },
  {
   "cell_type": "markdown",
   "metadata": {},
   "source": [
    "Add the directories (Path depends on your machine)"
   ]
  },
  {
   "cell_type": "code",
   "execution_count": 3,
   "metadata": {},
   "outputs": [],
   "source": [
    "import sys\n",
    "sys.path.append('c:\\\\Users\\\\liul.HHMI\\\\Desktop\\\\map-ephys\\\\pipeline') # go to parent dir\n",
    "sys.path.append('c:\\\\Users\\\\liul.HHMI\\\\Desktop\\\\map-ephys\\\\scripts')\n",
    "sys.path.append('c:\\\\Users\\\\liul.HHMI\\\\Desktop\\\\map-ephys\\\\development')\n",
    "sys.path.append('c:\\\\Users\\\\liul.HHMI\\\\Desktop\\\\map-lab')"
   ]
  },
  {
   "cell_type": "code",
   "execution_count": 3,
   "metadata": {},
   "outputs": [],
   "source": [
    "import warnings\n",
    "warnings.simplefilter(action='ignore', category=RuntimeWarning)"
   ]
  },
  {
   "cell_type": "markdown",
   "metadata": {},
   "source": [
    "Import the ephys schema"
   ]
  },
  {
   "cell_type": "code",
   "execution_count": 5,
   "metadata": {},
   "outputs": [
    {
     "data": {
      "image/svg+xml": [
       "<svg height=\"256pt\" viewBox=\"0.00 0.00 1110.50 256.00\" width=\"1111pt\" xmlns=\"http://www.w3.org/2000/svg\" xmlns:xlink=\"http://www.w3.org/1999/xlink\">\n",
       "<g class=\"graph\" id=\"graph0\" transform=\"scale(1 1) rotate(0) translate(4 252)\">\n",
       "<polygon fill=\"white\" points=\"-4,4 -4,-252 1106.5,-252 1106.5,4 -4,4\" stroke=\"transparent\"/>\n",
       "<!-- ephys.ElectrodeGroup.ElectrodeGroupPosition -->\n",
       "<g class=\"node\" id=\"node1\">\n",
       "<title>ephys.ElectrodeGroup.ElectrodeGroupPosition</title>\n",
       "<g id=\"a_node1\"><a xlink:title=\"→ master\r",
       "→ ccf.CCF\r",
       "------------------------------\r",
       "→ lab.SkullReference\r",
       "ml_location=null     \r",
       "ap_location=null     \r",
       "dv_location=null     \r",
       "ml_angle=null        \r",
       "ap_angle=null        \r",
       "\">\n",
       "<polygon fill=\"transparent\" points=\"770.5,-98 551.5,-98 551.5,-79 770.5,-79 770.5,-98\" stroke=\"transparent\"/>\n",
       "<text font-family=\"arial\" font-size=\"10.00\" text-anchor=\"middle\" x=\"661\" y=\"-86\">ephys.ElectrodeGroup.ElectrodeGroupPosition</text>\n",
       "</a>\n",
       "</g>\n",
       "</g>\n",
       "<!-- ephys.ElectrodePosition -->\n",
       "<g class=\"node\" id=\"node2\">\n",
       "<title>ephys.ElectrodePosition</title>\n",
       "<g id=\"a_node2\"><a xlink:title=\"→ ElectrodeGroup.Electrode\r",
       "------------------------------\r",
       "→ ccf.CCF\r",
       "\">\n",
       "<polygon fill=\"#00ff00\" fill-opacity=\"0.188235\" points=\"955.5,-35 812.5,-35 812.5,0 955.5,0 955.5,-35\" stroke=\"#00ff00\" stroke-opacity=\"0.188235\"/>\n",
       "<text fill=\"darkgreen\" font-family=\"arial\" font-size=\"12.00\" text-anchor=\"middle\" x=\"884\" y=\"-14.4\">ephys.ElectrodePosition</text>\n",
       "</a>\n",
       "</g>\n",
       "</g>\n",
       "<!-- ephys.ElectrodeGroup -->\n",
       "<g class=\"node\" id=\"node3\">\n",
       "<title>ephys.ElectrodeGroup</title>\n",
       "<g id=\"a_node3\"><a xlink:title=\"→ experiment.Session\r",
       "electrode_group      \r",
       "------------------------------\r",
       "→ Probe\r",
       "\">\n",
       "<polygon fill=\"#00ff00\" fill-opacity=\"0.188235\" points=\"830.5,-177 697.5,-177 697.5,-142 830.5,-142 830.5,-177\" stroke=\"#00ff00\" stroke-opacity=\"0.188235\"/>\n",
       "<text fill=\"darkgreen\" font-family=\"arial\" font-size=\"12.00\" text-anchor=\"middle\" x=\"764\" y=\"-156.4\">ephys.ElectrodeGroup</text>\n",
       "</a>\n",
       "</g>\n",
       "</g>\n",
       "<!-- ephys.ElectrodeGroup&#45;&gt;ephys.ElectrodeGroup.ElectrodeGroupPosition -->\n",
       "<g class=\"edge\" id=\"edge1\">\n",
       "<title>ephys.ElectrodeGroup-&gt;ephys.ElectrodeGroup.ElectrodeGroupPosition</title>\n",
       "<path d=\"M739.33,-141.97C718.74,-128.18 690.2,-109.06 673.87,-98.12\" fill=\"none\" stroke=\"#000000\" stroke-opacity=\"0.250980\" stroke-width=\"0.75\"/>\n",
       "</g>\n",
       "<!-- ephys.ElectrodeGroup.Electrode -->\n",
       "<g class=\"node\" id=\"node5\">\n",
       "<title>ephys.ElectrodeGroup.Electrode</title>\n",
       "<g id=\"a_node5\"><a xlink:title=\"→ master\r",
       "electrode            \r",
       "\">\n",
       "<polygon fill=\"transparent\" points=\"947,-98 789,-98 789,-79 947,-79 947,-98\" stroke=\"transparent\"/>\n",
       "<text font-family=\"arial\" font-size=\"10.00\" text-anchor=\"middle\" x=\"868\" y=\"-86\">ephys.ElectrodeGroup.Electrode</text>\n",
       "</a>\n",
       "</g>\n",
       "</g>\n",
       "<!-- ephys.ElectrodeGroup&#45;&gt;ephys.ElectrodeGroup.Electrode -->\n",
       "<g class=\"edge\" id=\"edge2\">\n",
       "<title>ephys.ElectrodeGroup-&gt;ephys.ElectrodeGroup.Electrode</title>\n",
       "<path d=\"M788.91,-141.97C809.7,-128.18 838.51,-109.06 855.01,-98.12\" fill=\"none\" stroke=\"#000000\" stroke-opacity=\"0.250980\" stroke-width=\"0.75\"/>\n",
       "</g>\n",
       "<!-- ephys.Unit -->\n",
       "<g class=\"node\" id=\"node10\">\n",
       "<title>ephys.Unit</title>\n",
       "<g id=\"a_node10\"><a xlink:title=\"→ ElectrodeGroup\r",
       "unit                 \r",
       "------------------------------\r",
       "unit_uid             \r",
       "→ UnitQualityType\r",
       "unit_channel=null    \r",
       "spike_times          \r",
       "waveform             \r",
       "\">\n",
       "<ellipse cx=\"477\" cy=\"-88.5\" fill=\"#00007f\" fill-opacity=\"0.250980\" rx=\"44.25\" ry=\"17.5\" stroke=\"#00007f\" stroke-opacity=\"0.250980\"/>\n",
       "<text fill=\"#00007f\" fill-opacity=\"0.627451\" font-family=\"arial\" font-size=\"12.00\" text-anchor=\"middle\" x=\"477\" y=\"-85.4\">ephys.Unit</text>\n",
       "</a>\n",
       "</g>\n",
       "</g>\n",
       "<!-- ephys.ElectrodeGroup&#45;&gt;ephys.Unit -->\n",
       "<g class=\"edge\" id=\"edge3\">\n",
       "<title>ephys.ElectrodeGroup-&gt;ephys.Unit</title>\n",
       "<path d=\"M697.39,-143.05C653.26,-132.74 594.12,-118.78 542,-106 532.61,-103.7 522.48,-101.16 513.07,-98.77\" fill=\"none\" stroke=\"#000000\" stroke-opacity=\"0.250980\" stroke-width=\"0.75\"/>\n",
       "</g>\n",
       "<!-- ephys.LabeledTrack -->\n",
       "<g class=\"node\" id=\"node11\">\n",
       "<title>ephys.LabeledTrack</title>\n",
       "<g id=\"a_node11\"><a xlink:title=\"→ ElectrodeGroup\r",
       "------------------------------\r",
       "labeling_date        \r",
       "dye_color            \r",
       "\">\n",
       "<polygon fill=\"#00ff00\" fill-opacity=\"0.188235\" points=\"1099,-106 977,-106 977,-71 1099,-71 1099,-106\" stroke=\"#00ff00\" stroke-opacity=\"0.188235\"/>\n",
       "<text fill=\"darkgreen\" font-family=\"arial\" font-size=\"12.00\" text-anchor=\"middle\" x=\"1038\" y=\"-85.4\">ephys.LabeledTrack</text>\n",
       "</a>\n",
       "</g>\n",
       "</g>\n",
       "<!-- ephys.ElectrodeGroup&#45;&gt;ephys.LabeledTrack -->\n",
       "<g class=\"edge\" id=\"edge4\">\n",
       "<title>ephys.ElectrodeGroup-&gt;ephys.LabeledTrack</title>\n",
       "<path d=\"M829.63,-141.97C874.28,-130.73 932.95,-115.95 976.66,-104.95\" fill=\"none\" stroke=\"#000000\" stroke-opacity=\"0.250980\" stroke-width=\"2\"/>\n",
       "</g>\n",
       "<!-- ephys.Unit.UnitPosition -->\n",
       "<g class=\"node\" id=\"node4\">\n",
       "<title>ephys.Unit.UnitPosition</title>\n",
       "<g id=\"a_node4\"><a xlink:title=\"→ master\r",
       "→ ccf.CCF\r",
       "------------------------------\r",
       "→ lab.Hemisphere\r",
       "→ lab.BrainArea\r",
       "→ lab.SkullReference\r",
       "unit_ml_location=null \r",
       "unit_ap_location=null \r",
       "unit_dv_location=null \r",
       "\">\n",
       "<polygon fill=\"transparent\" points=\"253.5,-27 134.5,-27 134.5,-8 253.5,-8 253.5,-27\" stroke=\"transparent\"/>\n",
       "<text font-family=\"arial\" font-size=\"10.00\" text-anchor=\"middle\" x=\"194\" y=\"-15\">ephys.Unit.UnitPosition</text>\n",
       "</a>\n",
       "</g>\n",
       "</g>\n",
       "<!-- ephys.ElectrodeGroup.Electrode&#45;&gt;ephys.ElectrodePosition -->\n",
       "<g class=\"edge\" id=\"edge5\">\n",
       "<title>ephys.ElectrodeGroup.Electrode-&gt;ephys.ElectrodePosition</title>\n",
       "<path d=\"M870.03,-78.76C872.57,-67.81 876.97,-48.81 880.16,-35.07\" fill=\"none\" stroke=\"#000000\" stroke-opacity=\"0.250980\" stroke-width=\"2\"/>\n",
       "</g>\n",
       "<!-- ephys.Unit.UnitSpike -->\n",
       "<g class=\"node\" id=\"node12\">\n",
       "<title>ephys.Unit.UnitSpike</title>\n",
       "<g id=\"a_node12\"><a xlink:title=\"→ master\r",
       "spike_time           \r",
       "------------------------------\r",
       "→ ElectrodeGroup.Electrode\r",
       "→ experiment.SessionTrial\r",
       "\">\n",
       "<polygon fill=\"transparent\" points=\"794,-27 686,-27 686,-8 794,-8 794,-27\" stroke=\"transparent\"/>\n",
       "<text font-family=\"arial\" font-size=\"10.00\" text-anchor=\"middle\" x=\"740\" y=\"-15\">ephys.Unit.UnitSpike</text>\n",
       "</a>\n",
       "</g>\n",
       "</g>\n",
       "<!-- ephys.ElectrodeGroup.Electrode&#45;&gt;ephys.Unit.UnitSpike -->\n",
       "<g class=\"edge\" id=\"edge6\">\n",
       "<title>ephys.ElectrodeGroup.Electrode-&gt;ephys.Unit.UnitSpike</title>\n",
       "<path d=\"M852.05,-78.9C827.52,-65.68 780.8,-40.5 756.15,-27.21\" fill=\"none\" stroke=\"#000000\" stroke-dasharray=\"5,2\" stroke-opacity=\"0.250980\" stroke-width=\"0.75\"/>\n",
       "</g>\n",
       "<!-- ephys.Probe -->\n",
       "<g class=\"node\" id=\"node6\">\n",
       "<title>ephys.Probe</title>\n",
       "<g id=\"a_node6\"><a xlink:title=\"probe_part_no        \r",
       "------------------------------\r",
       "probe_type           \r",
       "probe_comment        \r",
       "\">\n",
       "<polygon fill=\"#000000\" fill-opacity=\"0.125490\" points=\"799.5,-248 728.5,-248 728.5,-213 799.5,-213 799.5,-248\" stroke=\"transparent\"/>\n",
       "<text font-family=\"arial\" font-size=\"10.00\" text-anchor=\"middle\" x=\"764\" y=\"-228\">ephys.Probe</text>\n",
       "</a>\n",
       "</g>\n",
       "</g>\n",
       "<!-- ephys.Probe&#45;&gt;ephys.ElectrodeGroup -->\n",
       "<g class=\"edge\" id=\"edge7\">\n",
       "<title>ephys.Probe-&gt;ephys.ElectrodeGroup</title>\n",
       "<path d=\"M764,-212.8C764,-201.95 764,-187.87 764,-177.05\" fill=\"none\" stroke=\"#000000\" stroke-dasharray=\"5,2\" stroke-opacity=\"0.250980\" stroke-width=\"0.75\"/>\n",
       "</g>\n",
       "<!-- ephys.UnitCellType -->\n",
       "<g class=\"node\" id=\"node7\">\n",
       "<title>ephys.UnitCellType</title>\n",
       "<g id=\"a_node7\"><a xlink:title=\"→ Unit\r",
       "------------------------------\r",
       "→ CellType\r",
       "\">\n",
       "<ellipse cx=\"58\" cy=\"-17.5\" fill=\"#ff0000\" fill-opacity=\"0.125490\" rx=\"13\" ry=\"13\" stroke=\"#ff0000\" stroke-opacity=\"0.125490\"/>\n",
       "<text fill=\"#7f0000\" fill-opacity=\"0.627451\" font-family=\"arial\" font-size=\"12.00\" text-anchor=\"middle\" x=\"58\" y=\"-14.4\">ephys.UnitCellType</text>\n",
       "</a>\n",
       "</g>\n",
       "</g>\n",
       "<!-- ephys.TrialSpikes -->\n",
       "<g class=\"node\" id=\"node8\">\n",
       "<title>ephys.TrialSpikes</title>\n",
       "<g id=\"a_node8\"><a xlink:title=\"→ Unit\r",
       "→ experiment.SessionTrial\r",
       "------------------------------\r",
       "spike_times          \r",
       "\">\n",
       "<ellipse cx=\"340\" cy=\"-17.5\" fill=\"#00007f\" fill-opacity=\"0.250980\" rx=\"68.5\" ry=\"17.5\" stroke=\"#00007f\" stroke-opacity=\"0.250980\"/>\n",
       "<text fill=\"#00007f\" fill-opacity=\"0.627451\" font-family=\"arial\" font-size=\"12.00\" text-anchor=\"middle\" x=\"340\" y=\"-14.4\">ephys.TrialSpikes</text>\n",
       "</a>\n",
       "</g>\n",
       "</g>\n",
       "<!-- ephys.CellType -->\n",
       "<g class=\"node\" id=\"node9\">\n",
       "<title>ephys.CellType</title>\n",
       "<g id=\"a_node9\"><a xlink:title=\"cell_type            \r",
       "------------------------------\r",
       "cell_type_description \r",
       "\">\n",
       "<polygon fill=\"#000000\" fill-opacity=\"0.125490\" points=\"99.5,-106 16.5,-106 16.5,-71 99.5,-71 99.5,-106\" stroke=\"transparent\"/>\n",
       "<text font-family=\"arial\" font-size=\"10.00\" text-anchor=\"middle\" x=\"58\" y=\"-86\">ephys.CellType</text>\n",
       "</a>\n",
       "</g>\n",
       "</g>\n",
       "<!-- ephys.CellType&#45;&gt;ephys.UnitCellType -->\n",
       "<g class=\"edge\" id=\"edge8\">\n",
       "<title>ephys.CellType-&gt;ephys.UnitCellType</title>\n",
       "<path d=\"M58,-70.8C58,-58.35 58,-41.66 58,-30.51\" fill=\"none\" stroke=\"#000000\" stroke-dasharray=\"5,2\" stroke-opacity=\"0.250980\" stroke-width=\"0.75\"/>\n",
       "</g>\n",
       "<!-- ephys.Unit&#45;&gt;ephys.Unit.UnitPosition -->\n",
       "<g class=\"edge\" id=\"edge9\">\n",
       "<title>ephys.Unit-&gt;ephys.Unit.UnitPosition</title>\n",
       "<path d=\"M440.29,-78.55C385.41,-65.17 282.66,-40.12 228.87,-27\" fill=\"none\" stroke=\"#000000\" stroke-opacity=\"0.250980\" stroke-width=\"0.75\"/>\n",
       "</g>\n",
       "<!-- ephys.Unit&#45;&gt;ephys.UnitCellType -->\n",
       "<g class=\"edge\" id=\"edge10\">\n",
       "<title>ephys.Unit-&gt;ephys.UnitCellType</title>\n",
       "<path d=\"M435.06,-82.53C368.86,-74.4 236.24,-56.94 125,-35 105.73,-31.2 83.65,-25.5 70.27,-21.89\" fill=\"none\" stroke=\"#000000\" stroke-opacity=\"0.250980\" stroke-width=\"2\"/>\n",
       "</g>\n",
       "<!-- ephys.Unit&#45;&gt;ephys.TrialSpikes -->\n",
       "<g class=\"edge\" id=\"edge11\">\n",
       "<title>ephys.Unit-&gt;ephys.TrialSpikes</title>\n",
       "<path d=\"M450.59,-74.2C427.41,-62.53 393.75,-45.57 369.66,-33.44\" fill=\"none\" stroke=\"#000000\" stroke-opacity=\"0.250980\" stroke-width=\"0.75\"/>\n",
       "</g>\n",
       "<!-- ephys.Unit&#45;&gt;ephys.Unit.UnitSpike -->\n",
       "<g class=\"edge\" id=\"edge12\">\n",
       "<title>ephys.Unit-&gt;ephys.Unit.UnitSpike</title>\n",
       "<path d=\"M512.74,-78.12C564.01,-64.67 657.67,-40.1 707.23,-27.1\" fill=\"none\" stroke=\"#000000\" stroke-opacity=\"0.250980\" stroke-width=\"0.75\"/>\n",
       "</g>\n",
       "<!-- ephys.Unit.UnitTrial -->\n",
       "<g class=\"node\" id=\"node14\">\n",
       "<title>ephys.Unit.UnitTrial</title>\n",
       "<g id=\"a_node14\"><a xlink:title=\"→ master\r",
       "→ experiment.SessionTrial\r",
       "\">\n",
       "<polygon fill=\"transparent\" points=\"527.5,-27 426.5,-27 426.5,-8 527.5,-8 527.5,-27\" stroke=\"transparent\"/>\n",
       "<text font-family=\"arial\" font-size=\"10.00\" text-anchor=\"middle\" x=\"477\" y=\"-15\">ephys.Unit.UnitTrial</text>\n",
       "</a>\n",
       "</g>\n",
       "</g>\n",
       "<!-- ephys.Unit&#45;&gt;ephys.Unit.UnitTrial -->\n",
       "<g class=\"edge\" id=\"edge13\">\n",
       "<title>ephys.Unit-&gt;ephys.Unit.UnitTrial</title>\n",
       "<path d=\"M477,-70.8C477,-57.08 477,-38.19 477,-27.27\" fill=\"none\" stroke=\"#000000\" stroke-opacity=\"0.250980\" stroke-width=\"0.75\"/>\n",
       "</g>\n",
       "<!-- ephys.UnitComment -->\n",
       "<g class=\"node\" id=\"node15\">\n",
       "<title>ephys.UnitComment</title>\n",
       "<g id=\"a_node15\"><a xlink:title=\"→ Unit\r",
       "unit_comment         \r",
       "\">\n",
       "<polygon fill=\"#00ff00\" fill-opacity=\"0.188235\" points=\"668,-35 546,-35 546,0 668,0 668,-35\" stroke=\"#00ff00\" stroke-opacity=\"0.188235\"/>\n",
       "<text fill=\"darkgreen\" font-family=\"arial\" font-size=\"12.00\" text-anchor=\"middle\" x=\"607\" y=\"-14.4\">ephys.UnitComment</text>\n",
       "</a>\n",
       "</g>\n",
       "</g>\n",
       "<!-- ephys.Unit&#45;&gt;ephys.UnitComment -->\n",
       "<g class=\"edge\" id=\"edge14\">\n",
       "<title>ephys.Unit-&gt;ephys.UnitComment</title>\n",
       "<path d=\"M502.37,-74.03C523.36,-62.89 553.25,-47.03 575.72,-35.1\" fill=\"none\" stroke=\"#000000\" stroke-opacity=\"0.250980\" stroke-width=\"0.75\"/>\n",
       "</g>\n",
       "<!-- ephys.LabeledTrack.Point -->\n",
       "<g class=\"node\" id=\"node16\">\n",
       "<title>ephys.LabeledTrack.Point</title>\n",
       "<g id=\"a_node16\"><a xlink:title=\"→ master\r",
       "→ ccf.CCF\r",
       "\">\n",
       "<polygon fill=\"transparent\" points=\"1102.5,-27 973.5,-27 973.5,-8 1102.5,-8 1102.5,-27\" stroke=\"transparent\"/>\n",
       "<text font-family=\"arial\" font-size=\"10.00\" text-anchor=\"middle\" x=\"1038\" y=\"-15\">ephys.LabeledTrack.Point</text>\n",
       "</a>\n",
       "</g>\n",
       "</g>\n",
       "<!-- ephys.LabeledTrack&#45;&gt;ephys.LabeledTrack.Point -->\n",
       "<g class=\"edge\" id=\"edge15\">\n",
       "<title>ephys.LabeledTrack-&gt;ephys.LabeledTrack.Point</title>\n",
       "<path d=\"M1038,-70.8C1038,-57.08 1038,-38.19 1038,-27.27\" fill=\"none\" stroke=\"#000000\" stroke-opacity=\"0.250980\" stroke-width=\"0.75\"/>\n",
       "</g>\n",
       "<!-- ephys.UnitQualityType -->\n",
       "<g class=\"node\" id=\"node13\">\n",
       "<title>ephys.UnitQualityType</title>\n",
       "<g id=\"a_node13\"><a xlink:title=\"unit_quality         \r",
       "------------------------------\r",
       "unit_quality_description \r",
       "\">\n",
       "<polygon fill=\"#000000\" fill-opacity=\"0.125490\" points=\"534.5,-177 419.5,-177 419.5,-142 534.5,-142 534.5,-177\" stroke=\"transparent\"/>\n",
       "<text font-family=\"arial\" font-size=\"10.00\" text-anchor=\"middle\" x=\"477\" y=\"-157\">ephys.UnitQualityType</text>\n",
       "</a>\n",
       "</g>\n",
       "</g>\n",
       "<!-- ephys.UnitQualityType&#45;&gt;ephys.Unit -->\n",
       "<g class=\"edge\" id=\"edge16\">\n",
       "<title>ephys.UnitQualityType-&gt;ephys.Unit</title>\n",
       "<path d=\"M477,-141.8C477,-130.95 477,-116.87 477,-106.05\" fill=\"none\" stroke=\"#000000\" stroke-dasharray=\"5,2\" stroke-opacity=\"0.250980\" stroke-width=\"0.75\"/>\n",
       "</g>\n",
       "</g>\n",
       "</svg>"
      ],
      "text/plain": [
       "<datajoint.erd.ERD at 0x29826a0>"
      ]
     },
     "execution_count": 5,
     "metadata": {},
     "output_type": "execute_result"
    }
   ],
   "source": [
    "import pipeline.ephys as ephys\n",
    "dj.ERD(ephys)"
   ]
  },
  {
   "cell_type": "markdown",
   "metadata": {},
   "source": [
    "Plot some ephys data"
   ]
  },
  {
   "cell_type": "code",
   "execution_count": 6,
   "metadata": {},
   "outputs": [],
   "source": [
    "import matplotlib.pyplot as plt\n",
    "%matplotlib inline\n",
    "import numpy as np\n",
    "import scipy as sp"
   ]
  },
  {
   "cell_type": "code",
   "execution_count": 7,
   "metadata": {},
   "outputs": [],
   "source": [
    "behaviorT=ephys.experiment.BehaviorTrial()"
   ]
  },
  {
   "cell_type": "markdown",
   "metadata": {},
   "source": [
    "Get the behavioral data"
   ]
  },
  {
   "cell_type": "code",
   "execution_count": 13,
   "metadata": {},
   "outputs": [],
   "source": [
    "animal = 407513\n",
    "sessionN = 17\n",
    "#sessionN = 3\n",
    "contraH=(behaviorT & {'subject_id': animal} & {'session': sessionN} & 'outcome = \"hit\"' & 'trial_instruction = \"right\"' & 'early_lick = \"no early\"').fetch('trial')\n",
    "ipsiH=(behaviorT & {'subject_id': animal} & {'session': sessionN} & 'outcome = \"hit\"' & 'trial_instruction = \"left\"' & 'early_lick = \"no early\"').fetch('trial')\n",
    "contraE=(behaviorT & {'subject_id': animal} & {'session': sessionN} & 'outcome = \"miss\"' & 'trial_instruction = \"right\"' & 'early_lick = \"no early\"').fetch('trial')\n",
    "ipsiE=(behaviorT & {'subject_id': animal} & {'session': sessionN} & 'outcome = \"miss\"' & 'trial_instruction = \"left\"' & 'early_lick = \"no early\"').fetch('trial')"
   ]
  },
  {
   "cell_type": "code",
   "execution_count": 14,
   "metadata": {},
   "outputs": [],
   "source": [
    "#offset=2.95\n",
    "offset=3.45"
   ]
  },
  {
   "cell_type": "code",
   "execution_count": 15,
   "metadata": {},
   "outputs": [],
   "source": [
    "unit=ephys.Unit()"
   ]
  },
  {
   "cell_type": "code",
   "execution_count": 16,
   "metadata": {},
   "outputs": [],
   "source": [
    "spike=unit.UnitSpike()"
   ]
  },
  {
   "cell_type": "code",
   "execution_count": 17,
   "metadata": {},
   "outputs": [
    {
     "data": {
      "text/plain": [
       "array([  4,   8,  19,  30,  35,  37,  47,  51,  60,  61,  70,  78,  79,\n",
       "        80,  81,  84,  85,  86,  90,  92,  93,  94,  96,  99, 101, 106,\n",
       "       117, 119, 126, 129, 130, 133, 134, 136, 137, 141, 142, 144, 147,\n",
       "       152, 153, 155, 158, 168, 170, 171, 172, 175, 176, 183, 186, 191,\n",
       "       193, 206, 212, 230, 231, 232, 233, 242, 246, 247, 248, 255, 259,\n",
       "       266, 269, 272, 275, 294, 299, 302, 312, 345, 346, 377], dtype=int64)"
      ]
     },
     "execution_count": 17,
     "metadata": {},
     "output_type": "execute_result"
    }
   ],
   "source": [
    "goodUnits=(unit & {'subject_id': animal} & {'session': sessionN} & {'unit_quality': 'good'}).fetch('unit')\n",
    "goodUnits"
   ]
  },
  {
   "cell_type": "markdown",
   "metadata": {},
   "source": [
    "Plot PSTHs"
   ]
  },
  {
   "cell_type": "code",
   "execution_count": null,
   "metadata": {},
   "outputs": [
    {
     "name": "stderr",
     "output_type": "stream",
     "text": [
      "c:\\users\\liul.hhmi\\appdata\\local\\programs\\python\\python36\\lib\\site-packages\\matplotlib\\pyplot.py:523: RuntimeWarning: More than 20 figures have been opened. Figures created through the pyplot interface (`matplotlib.pyplot.figure`) are retained until explicitly closed and may consume too much memory. (To control this warning, see the rcParam `figure.max_open_warning`).\n",
      "  max_open_warning, RuntimeWarning)\n",
      "c:\\users\\liul.hhmi\\appdata\\local\\programs\\python\\python36\\lib\\site-packages\\matplotlib\\pyplot.py:523: RuntimeWarning: More than 20 figures have been opened. Figures created through the pyplot interface (`matplotlib.pyplot.figure`) are retained until explicitly closed and may consume too much memory. (To control this warning, see the rcParam `figure.max_open_warning`).\n",
      "  max_open_warning, RuntimeWarning)\n",
      "c:\\users\\liul.hhmi\\appdata\\local\\programs\\python\\python36\\lib\\site-packages\\matplotlib\\pyplot.py:523: RuntimeWarning: More than 20 figures have been opened. Figures created through the pyplot interface (`matplotlib.pyplot.figure`) are retained until explicitly closed and may consume too much memory. (To control this warning, see the rcParam `figure.max_open_warning`).\n",
      "  max_open_warning, RuntimeWarning)\n",
      "c:\\users\\liul.hhmi\\appdata\\local\\programs\\python\\python36\\lib\\site-packages\\matplotlib\\pyplot.py:523: RuntimeWarning: More than 20 figures have been opened. Figures created through the pyplot interface (`matplotlib.pyplot.figure`) are retained until explicitly closed and may consume too much memory. (To control this warning, see the rcParam `figure.max_open_warning`).\n",
      "  max_open_warning, RuntimeWarning)\n",
      "c:\\users\\liul.hhmi\\appdata\\local\\programs\\python\\python36\\lib\\site-packages\\matplotlib\\pyplot.py:523: RuntimeWarning: More than 20 figures have been opened. Figures created through the pyplot interface (`matplotlib.pyplot.figure`) are retained until explicitly closed and may consume too much memory. (To control this warning, see the rcParam `figure.max_open_warning`).\n",
      "  max_open_warning, RuntimeWarning)\n",
      "c:\\users\\liul.hhmi\\appdata\\local\\programs\\python\\python36\\lib\\site-packages\\matplotlib\\pyplot.py:523: RuntimeWarning: More than 20 figures have been opened. Figures created through the pyplot interface (`matplotlib.pyplot.figure`) are retained until explicitly closed and may consume too much memory. (To control this warning, see the rcParam `figure.max_open_warning`).\n",
      "  max_open_warning, RuntimeWarning)\n",
      "c:\\users\\liul.hhmi\\appdata\\local\\programs\\python\\python36\\lib\\site-packages\\matplotlib\\pyplot.py:523: RuntimeWarning: More than 20 figures have been opened. Figures created through the pyplot interface (`matplotlib.pyplot.figure`) are retained until explicitly closed and may consume too much memory. (To control this warning, see the rcParam `figure.max_open_warning`).\n",
      "  max_open_warning, RuntimeWarning)\n",
      "c:\\users\\liul.hhmi\\appdata\\local\\programs\\python\\python36\\lib\\site-packages\\matplotlib\\pyplot.py:523: RuntimeWarning: More than 20 figures have been opened. Figures created through the pyplot interface (`matplotlib.pyplot.figure`) are retained until explicitly closed and may consume too much memory. (To control this warning, see the rcParam `figure.max_open_warning`).\n",
      "  max_open_warning, RuntimeWarning)\n",
      "c:\\users\\liul.hhmi\\appdata\\local\\programs\\python\\python36\\lib\\site-packages\\matplotlib\\pyplot.py:523: RuntimeWarning: More than 20 figures have been opened. Figures created through the pyplot interface (`matplotlib.pyplot.figure`) are retained until explicitly closed and may consume too much memory. (To control this warning, see the rcParam `figure.max_open_warning`).\n",
      "  max_open_warning, RuntimeWarning)\n",
      "c:\\users\\liul.hhmi\\appdata\\local\\programs\\python\\python36\\lib\\site-packages\\matplotlib\\pyplot.py:523: RuntimeWarning: More than 20 figures have been opened. Figures created through the pyplot interface (`matplotlib.pyplot.figure`) are retained until explicitly closed and may consume too much memory. (To control this warning, see the rcParam `figure.max_open_warning`).\n",
      "  max_open_warning, RuntimeWarning)\n",
      "c:\\users\\liul.hhmi\\appdata\\local\\programs\\python\\python36\\lib\\site-packages\\matplotlib\\pyplot.py:523: RuntimeWarning: More than 20 figures have been opened. Figures created through the pyplot interface (`matplotlib.pyplot.figure`) are retained until explicitly closed and may consume too much memory. (To control this warning, see the rcParam `figure.max_open_warning`).\n",
      "  max_open_warning, RuntimeWarning)\n",
      "c:\\users\\liul.hhmi\\appdata\\local\\programs\\python\\python36\\lib\\site-packages\\matplotlib\\pyplot.py:523: RuntimeWarning: More than 20 figures have been opened. Figures created through the pyplot interface (`matplotlib.pyplot.figure`) are retained until explicitly closed and may consume too much memory. (To control this warning, see the rcParam `figure.max_open_warning`).\n",
      "  max_open_warning, RuntimeWarning)\n",
      "c:\\users\\liul.hhmi\\appdata\\local\\programs\\python\\python36\\lib\\site-packages\\matplotlib\\pyplot.py:523: RuntimeWarning: More than 20 figures have been opened. Figures created through the pyplot interface (`matplotlib.pyplot.figure`) are retained until explicitly closed and may consume too much memory. (To control this warning, see the rcParam `figure.max_open_warning`).\n",
      "  max_open_warning, RuntimeWarning)\n",
      "c:\\users\\liul.hhmi\\appdata\\local\\programs\\python\\python36\\lib\\site-packages\\matplotlib\\pyplot.py:523: RuntimeWarning: More than 20 figures have been opened. Figures created through the pyplot interface (`matplotlib.pyplot.figure`) are retained until explicitly closed and may consume too much memory. (To control this warning, see the rcParam `figure.max_open_warning`).\n",
      "  max_open_warning, RuntimeWarning)\n",
      "c:\\users\\liul.hhmi\\appdata\\local\\programs\\python\\python36\\lib\\site-packages\\matplotlib\\pyplot.py:523: RuntimeWarning: More than 20 figures have been opened. Figures created through the pyplot interface (`matplotlib.pyplot.figure`) are retained until explicitly closed and may consume too much memory. (To control this warning, see the rcParam `figure.max_open_warning`).\n",
      "  max_open_warning, RuntimeWarning)\n",
      "c:\\users\\liul.hhmi\\appdata\\local\\programs\\python\\python36\\lib\\site-packages\\matplotlib\\pyplot.py:523: RuntimeWarning: More than 20 figures have been opened. Figures created through the pyplot interface (`matplotlib.pyplot.figure`) are retained until explicitly closed and may consume too much memory. (To control this warning, see the rcParam `figure.max_open_warning`).\n",
      "  max_open_warning, RuntimeWarning)\n",
      "c:\\users\\liul.hhmi\\appdata\\local\\programs\\python\\python36\\lib\\site-packages\\matplotlib\\pyplot.py:523: RuntimeWarning: More than 20 figures have been opened. Figures created through the pyplot interface (`matplotlib.pyplot.figure`) are retained until explicitly closed and may consume too much memory. (To control this warning, see the rcParam `figure.max_open_warning`).\n",
      "  max_open_warning, RuntimeWarning)\n",
      "c:\\users\\liul.hhmi\\appdata\\local\\programs\\python\\python36\\lib\\site-packages\\matplotlib\\pyplot.py:523: RuntimeWarning: More than 20 figures have been opened. Figures created through the pyplot interface (`matplotlib.pyplot.figure`) are retained until explicitly closed and may consume too much memory. (To control this warning, see the rcParam `figure.max_open_warning`).\n",
      "  max_open_warning, RuntimeWarning)\n",
      "c:\\users\\liul.hhmi\\appdata\\local\\programs\\python\\python36\\lib\\site-packages\\matplotlib\\pyplot.py:523: RuntimeWarning: More than 20 figures have been opened. Figures created through the pyplot interface (`matplotlib.pyplot.figure`) are retained until explicitly closed and may consume too much memory. (To control this warning, see the rcParam `figure.max_open_warning`).\n",
      "  max_open_warning, RuntimeWarning)\n",
      "c:\\users\\liul.hhmi\\appdata\\local\\programs\\python\\python36\\lib\\site-packages\\matplotlib\\pyplot.py:523: RuntimeWarning: More than 20 figures have been opened. Figures created through the pyplot interface (`matplotlib.pyplot.figure`) are retained until explicitly closed and may consume too much memory. (To control this warning, see the rcParam `figure.max_open_warning`).\n",
      "  max_open_warning, RuntimeWarning)\n",
      "c:\\users\\liul.hhmi\\appdata\\local\\programs\\python\\python36\\lib\\site-packages\\matplotlib\\pyplot.py:523: RuntimeWarning: More than 20 figures have been opened. Figures created through the pyplot interface (`matplotlib.pyplot.figure`) are retained until explicitly closed and may consume too much memory. (To control this warning, see the rcParam `figure.max_open_warning`).\n",
      "  max_open_warning, RuntimeWarning)\n",
      "c:\\users\\liul.hhmi\\appdata\\local\\programs\\python\\python36\\lib\\site-packages\\matplotlib\\pyplot.py:523: RuntimeWarning: More than 20 figures have been opened. Figures created through the pyplot interface (`matplotlib.pyplot.figure`) are retained until explicitly closed and may consume too much memory. (To control this warning, see the rcParam `figure.max_open_warning`).\n",
      "  max_open_warning, RuntimeWarning)\n",
      "c:\\users\\liul.hhmi\\appdata\\local\\programs\\python\\python36\\lib\\site-packages\\matplotlib\\pyplot.py:523: RuntimeWarning: More than 20 figures have been opened. Figures created through the pyplot interface (`matplotlib.pyplot.figure`) are retained until explicitly closed and may consume too much memory. (To control this warning, see the rcParam `figure.max_open_warning`).\n",
      "  max_open_warning, RuntimeWarning)\n",
      "c:\\users\\liul.hhmi\\appdata\\local\\programs\\python\\python36\\lib\\site-packages\\matplotlib\\pyplot.py:523: RuntimeWarning: More than 20 figures have been opened. Figures created through the pyplot interface (`matplotlib.pyplot.figure`) are retained until explicitly closed and may consume too much memory. (To control this warning, see the rcParam `figure.max_open_warning`).\n",
      "  max_open_warning, RuntimeWarning)\n",
      "c:\\users\\liul.hhmi\\appdata\\local\\programs\\python\\python36\\lib\\site-packages\\matplotlib\\pyplot.py:523: RuntimeWarning: More than 20 figures have been opened. Figures created through the pyplot interface (`matplotlib.pyplot.figure`) are retained until explicitly closed and may consume too much memory. (To control this warning, see the rcParam `figure.max_open_warning`).\n",
      "  max_open_warning, RuntimeWarning)\n",
      "c:\\users\\liul.hhmi\\appdata\\local\\programs\\python\\python36\\lib\\site-packages\\matplotlib\\pyplot.py:523: RuntimeWarning: More than 20 figures have been opened. Figures created through the pyplot interface (`matplotlib.pyplot.figure`) are retained until explicitly closed and may consume too much memory. (To control this warning, see the rcParam `figure.max_open_warning`).\n",
      "  max_open_warning, RuntimeWarning)\n",
      "c:\\users\\liul.hhmi\\appdata\\local\\programs\\python\\python36\\lib\\site-packages\\matplotlib\\pyplot.py:523: RuntimeWarning: More than 20 figures have been opened. Figures created through the pyplot interface (`matplotlib.pyplot.figure`) are retained until explicitly closed and may consume too much memory. (To control this warning, see the rcParam `figure.max_open_warning`).\n",
      "  max_open_warning, RuntimeWarning)\n",
      "c:\\users\\liul.hhmi\\appdata\\local\\programs\\python\\python36\\lib\\site-packages\\matplotlib\\pyplot.py:523: RuntimeWarning: More than 20 figures have been opened. Figures created through the pyplot interface (`matplotlib.pyplot.figure`) are retained until explicitly closed and may consume too much memory. (To control this warning, see the rcParam `figure.max_open_warning`).\n",
      "  max_open_warning, RuntimeWarning)\n",
      "c:\\users\\liul.hhmi\\appdata\\local\\programs\\python\\python36\\lib\\site-packages\\matplotlib\\pyplot.py:523: RuntimeWarning: More than 20 figures have been opened. Figures created through the pyplot interface (`matplotlib.pyplot.figure`) are retained until explicitly closed and may consume too much memory. (To control this warning, see the rcParam `figure.max_open_warning`).\n",
      "  max_open_warning, RuntimeWarning)\n",
      "c:\\users\\liul.hhmi\\appdata\\local\\programs\\python\\python36\\lib\\site-packages\\matplotlib\\pyplot.py:523: RuntimeWarning: More than 20 figures have been opened. Figures created through the pyplot interface (`matplotlib.pyplot.figure`) are retained until explicitly closed and may consume too much memory. (To control this warning, see the rcParam `figure.max_open_warning`).\n",
      "  max_open_warning, RuntimeWarning)\n",
      "c:\\users\\liul.hhmi\\appdata\\local\\programs\\python\\python36\\lib\\site-packages\\matplotlib\\pyplot.py:523: RuntimeWarning: More than 20 figures have been opened. Figures created through the pyplot interface (`matplotlib.pyplot.figure`) are retained until explicitly closed and may consume too much memory. (To control this warning, see the rcParam `figure.max_open_warning`).\n",
      "  max_open_warning, RuntimeWarning)\n",
      "c:\\users\\liul.hhmi\\appdata\\local\\programs\\python\\python36\\lib\\site-packages\\matplotlib\\pyplot.py:523: RuntimeWarning: More than 20 figures have been opened. Figures created through the pyplot interface (`matplotlib.pyplot.figure`) are retained until explicitly closed and may consume too much memory. (To control this warning, see the rcParam `figure.max_open_warning`).\n",
      "  max_open_warning, RuntimeWarning)\n",
      "c:\\users\\liul.hhmi\\appdata\\local\\programs\\python\\python36\\lib\\site-packages\\matplotlib\\pyplot.py:523: RuntimeWarning: More than 20 figures have been opened. Figures created through the pyplot interface (`matplotlib.pyplot.figure`) are retained until explicitly closed and may consume too much memory. (To control this warning, see the rcParam `figure.max_open_warning`).\n",
      "  max_open_warning, RuntimeWarning)\n",
      "c:\\users\\liul.hhmi\\appdata\\local\\programs\\python\\python36\\lib\\site-packages\\matplotlib\\pyplot.py:523: RuntimeWarning: More than 20 figures have been opened. Figures created through the pyplot interface (`matplotlib.pyplot.figure`) are retained until explicitly closed and may consume too much memory. (To control this warning, see the rcParam `figure.max_open_warning`).\n",
      "  max_open_warning, RuntimeWarning)\n",
      "c:\\users\\liul.hhmi\\appdata\\local\\programs\\python\\python36\\lib\\site-packages\\matplotlib\\pyplot.py:523: RuntimeWarning: More than 20 figures have been opened. Figures created through the pyplot interface (`matplotlib.pyplot.figure`) are retained until explicitly closed and may consume too much memory. (To control this warning, see the rcParam `figure.max_open_warning`).\n",
      "  max_open_warning, RuntimeWarning)\n",
      "c:\\users\\liul.hhmi\\appdata\\local\\programs\\python\\python36\\lib\\site-packages\\matplotlib\\pyplot.py:523: RuntimeWarning: More than 20 figures have been opened. Figures created through the pyplot interface (`matplotlib.pyplot.figure`) are retained until explicitly closed and may consume too much memory. (To control this warning, see the rcParam `figure.max_open_warning`).\n",
      "  max_open_warning, RuntimeWarning)\n"
     ]
    }
   ],
   "source": [
    "for x in goodUnits:\n",
    "    unit1=(spike & {'unit': x} & {'subject_id': animal} & {'session': sessionN}).fetch('spike_time','trial')\n",
    "    binSize=0.1;\n",
    "    plt.figure()\n",
    "    ax=plt.subplot(311)\n",
    "    plt.plot(np.asarray(unit1[0][np.in1d(unit1[1],contraH)], dtype='float')-offset,unit1[1][np.in1d(unit1[1],contraH)]+500,'b.',markersize=1)\n",
    "    plt.plot(np.asarray(unit1[0][np.in1d(unit1[1],ipsiH)], dtype='float')-offset,unit1[1][np.in1d(unit1[1],ipsiH)],'r.',markersize=1)\n",
    "    ax.set_axis_off()\n",
    "    ax.set_xlim([-3, 2])\n",
    "    ax.axvline(0,0,1, ls='--')\n",
    "    ax.axvline(-1.2,0,1, ls='--')\n",
    "    ax.axvline(-2.4,0,1, ls='--')\n",
    "    ax = plt.subplot(312)\n",
    "    psth=np.histogram(np.asarray(unit1[0][np.in1d(unit1[1],contraH)], dtype='float')-offset,bins=np.arange(-3,2,binSize))\n",
    "    plt.plot(psth[1][1:],psth[0]/len(contraH)/binSize, 'b')\n",
    "    psth=np.histogram(np.asarray(unit1[0][np.in1d(unit1[1],ipsiH)], dtype='float')-offset,bins=np.arange(-3,2,binSize))\n",
    "    plt.plot(psth[1][1:],psth[0]/len(ipsiH)/binSize, 'r')\n",
    "    plt.ylabel('spikes/s')\n",
    "    ax.spines[\"top\"].set_visible(False)  \n",
    "    ax.spines[\"right\"].set_visible(False)\n",
    "    ax.set_xlim([-3, 2])\n",
    "    ax.set_ylim([0, 15])\n",
    "    ax.set_xticklabels([])\n",
    "    ax.axvline(0,0,1, ls='--')\n",
    "    ax.axvline(-1.2,0,1, ls='--')\n",
    "    ax.axvline(-2.4,0,1, ls='--')\n",
    "    plt.title('Correct trials')\n",
    "    ax = plt.subplot(313)\n",
    "    psth=np.histogram(np.asarray(unit1[0][np.in1d(unit1[1],contraE)], dtype='float')-offset,bins=np.arange(-3,2,0.1))\n",
    "    plt.plot(psth[1][1:],psth[0]/len(contraE)/binSize, 'b')\n",
    "    psth=np.histogram(np.asarray(unit1[0][np.in1d(unit1[1],ipsiE)], dtype='float')-offset,bins=np.arange(-3,2,0.1))\n",
    "    plt.plot(psth[1][1:],psth[0]/len(ipsiE)/binSize, 'r')\n",
    "    ax.spines[\"top\"].set_visible(False)  \n",
    "    ax.spines[\"right\"].set_visible(False)\n",
    "    ax.set_xlim([-3, 2])\n",
    "    ax.set_ylim([0, 15])\n",
    "    ax.axvline(0,0,1, ls='--')\n",
    "    ax.axvline(-1.2,0,1, ls='--')\n",
    "    ax.axvline(-2.4,0,1, ls='--')\n",
    "    plt.title('Error trials')\n",
    "    plt.xlabel('Time to go cue (s)')"
   ]
  },
  {
   "cell_type": "markdown",
   "metadata": {},
   "source": [
    "Population selectivity"
   ]
  },
  {
   "cell_type": "code",
   "execution_count": 21,
   "metadata": {},
   "outputs": [],
   "source": [
    "selectC=[]\n",
    "selectI=[]\n",
    "binSize=0.1\n",
    "for x in goodUnits[25:85]:\n",
    "    unit1=(spike & {'unit': x} & {'subject_id': animal} & {'session': sessionN}).fetch('spike_time','trial') # find good neurons\n",
    "    psthC=np.histogram(np.asarray(unit1[0][np.in1d(unit1[1],contraH)], dtype='float')-offset,bins=np.arange(-3,2,binSize))\n",
    "    psthI=np.histogram(np.asarray(unit1[0][np.in1d(unit1[1],ipsiH)], dtype='float')-offset,bins=np.arange(-3,2,binSize)) \n",
    "    if len(unit1[0][np.in1d(unit1[1],contraH)])/len(contraH) > len(unit1[0][np.in1d(unit1[1],ipsiH)])/len(ipsiH):\n",
    "        if len(selectC) == 0:\n",
    "            selectC=(psthC[0]/len(contraH)-psthI[0]/len(ipsiH))/max(psthC[0]/len(contraH)-psthI[0]/len(ipsiH))\n",
    "        elif len(selectC) != 0:\n",
    "            selectC=np.vstack((selectC, (psthC[0]/len(contraH)-psthI[0]/len(ipsiH))/max(psthC[0]/len(contraH)-psthI[0]/len(ipsiH))))\n",
    "    elif len(unit1[0][np.in1d(unit1[1],contraH)])/len(contraH) < len(unit1[0][np.in1d(unit1[1],ipsiH)])/len(ipsiH):\n",
    "        if len(selectI) == 0:\n",
    "            selectI=(psthI[0]/len(ipsiH)-psthC[0]/len(contraH))/min(psthC[0]/len(contraH)-psthI[0]/len(ipsiH))\n",
    "        elif len(selectI) != 0:\n",
    "            selectI=np.vstack((selectI, (psthI[0]/len(ipsiH)-psthC[0]/len(contraH))/min(psthC[0]/len(contraH)-psthI[0]/len(ipsiH))))"
   ]
  },
  {
   "cell_type": "code",
   "execution_count": 22,
   "metadata": {},
   "outputs": [
    {
     "data": {
      "text/plain": [
       "<matplotlib.lines.Line2D at 0x432718d0>"
      ]
     },
     "execution_count": 22,
     "metadata": {},
     "output_type": "execute_result"
    },
    {
     "data": {
      "image/png": "[encoded data removed]",
      "text/plain": [
       "<matplotlib.figure.Figure at 0x40603c88>"
      ]
     },
     "metadata": {},
     "output_type": "display_data"
    }
   ],
   "source": [
    "fig = plt.figure()\n",
    "ax = fig.add_subplot(111)\n",
    "plt.imshow(selectC[:][:],vmin=-1, vmax=1, extent=[psthC[1][1], psthC[1][-1], 0, len(selectC)])\n",
    "plt.colorbar()\n",
    "plt.set_cmap('bwr_r')\n",
    "ax.set_aspect(0.1)\n",
    "plt.title('Contra-preferring neurons')\n",
    "plt.ylabel('Neuron number')\n",
    "plt.xlabel('Time to go cue (s)')\n",
    "ax.axvline(0,0,1, ls='--')\n",
    "ax.axvline(-1.2,0,1, ls='--')\n",
    "ax.axvline(-2.4,0,1, ls='--')"
   ]
  },
  {
   "cell_type": "code",
   "execution_count": 23,
   "metadata": {},
   "outputs": [
    {
     "data": {
      "text/plain": [
       "<matplotlib.lines.Line2D at 0x3cba1b38>"
      ]
     },
     "execution_count": 23,
     "metadata": {},
     "output_type": "execute_result"
    },
    {
     "data": {
      "image/png": "[encoded data removed]",
      "text/plain": [
       "<matplotlib.figure.Figure at 0x3e1375f8>"
      ]
     },
     "metadata": {},
     "output_type": "display_data"
    }
   ],
   "source": [
    "fig = plt.figure()\n",
    "ax = fig.add_subplot(111)\n",
    "plt.imshow(selectI[:][:],vmin=-1, vmax=1, extent=[psthI[1][1],psthI[1][-1],0, len(selectI)])\n",
    "plt.colorbar()\n",
    "plt.set_cmap('bwr_r')\n",
    "ax.set_aspect(0.1)\n",
    "plt.title('Ipsi-preferring neurons')\n",
    "plt.ylabel('Neuron number')\n",
    "plt.xlabel('Time (s)')\n",
    "ax.axvline(0,0,1, ls='--')\n",
    "ax.axvline(-1.2,0,1, ls='--')\n",
    "ax.axvline(-2.4,0,1, ls='--')"
   ]
  },
  {
   "cell_type": "markdown",
   "metadata": {},
   "source": [
    "Error vs. Correct trial correlation"
   ]
  },
  {
   "cell_type": "code",
   "execution_count": 66,
   "metadata": {},
   "outputs": [],
   "source": [
    "sCg=np.empty(len(goodUnits))\n",
    "sEg=np.empty(len(goodUnits))\n",
    "sCd=np.empty(len(goodUnits))\n",
    "sEd=np.empty(len(goodUnits))\n",
    "sCs=np.empty(len(goodUnits))\n",
    "sEs=np.empty(len(goodUnits))\n",
    "count=0\n",
    "for x in goodUnits: # choice related activity\n",
    "    unit1=(spike & {'unit': x} & {'subject_id': animal} & {'session': sessionN}).fetch('spike_time','trial') # find high firing neurons\n",
    "    spkC=np.asarray(unit1[0][np.in1d(unit1[1],contraH)], dtype='float')-offset\n",
    "    spkI=np.asarray(unit1[0][np.in1d(unit1[1],ipsiH)], dtype='float')-offset\n",
    "    spkCE=np.asarray(unit1[0][np.in1d(unit1[1],contraE)], dtype='float')-offset\n",
    "    spkIE=np.asarray(unit1[0][np.in1d(unit1[1],ipsiE)], dtype='float')-offset\n",
    "    sCg[count]=len(spkC[(spkC<2) & (spkC>0)])/len(contraH)-len(spkI[(spkI<2) & (spkI>0)])/len(ipsiH)\n",
    "    sEg[count]=len(spkCE[(spkCE<2) & (spkCE>0)])/len(contraE)-len(spkIE[(spkIE<2) & (spkIE>0)])/len(ipsiE)\n",
    "    sCd[count]=len(spkC[(spkC<0) & (spkC>-1.2)])/len(contraH)-len(spkI[(spkI<0) & (spkI>-1.2)])/len(ipsiH)\n",
    "    sEd[count]=len(spkCE[(spkCE<0) & (spkCE>-1.2)])/len(contraE)-len(spkIE[(spkIE<0) & (spkIE>-1.2)])/len(ipsiE)\n",
    "    sCs[count]=len(spkC[(spkC<-1.2) & (spkC>-2.35)])/len(contraH)-len(spkI[(spkI<-1.2) & (spkI>-2.35)])/len(ipsiH)\n",
    "    sEs[count]=len(spkCE[(spkCE<-1.2) & (spkCE>-2.35)])/len(contraE)-len(spkIE[(spkIE<-1.2) & (spkIE>-2.35)])/len(ipsiE)\n",
    "    count=count+1"
   ]
  },
  {
   "cell_type": "code",
   "execution_count": 71,
   "metadata": {},
   "outputs": [
    {
     "data": {
      "text/plain": [
       "<matplotlib.lines.Line2D at 0x3ecc7f60>"
      ]
     },
     "execution_count": 71,
     "metadata": {},
     "output_type": "execute_result"
    },
    {
     "data": {
      "image/png": "[encoded data removed]",
      "text/plain": [
       "<matplotlib.figure.Figure at 0x4e1a1d68>"
      ]
     },
     "metadata": {},
     "output_type": "display_data"
    }
   ],
   "source": [
    "ax=plt.subplot(111)\n",
    "plt.plot(sCd,sEd,'k.',[-15, 15], [-15, 15],'k--',[-15, 15], [15, -15],'k--')\n",
    "plt.xlabel('Correct trials, response epoch selectivity (spike/s)')\n",
    "plt.ylabel('Error trials, response epoch selectivity (spikes/s)')\n",
    "plt.xlim(-max(sCg), max(sCg))\n",
    "plt.ylim(-max(sCg), max(sCg))\n",
    "plt.gca().set_aspect('equal', adjustable='box')\n",
    "ax.spines[\"top\"].set_visible(False)  \n",
    "ax.spines[\"right\"].set_visible(False)\n",
    "ax.axvline(0,0,1, ls='--', color='k')\n",
    "ax.axhline(0,0,1, ls='--', color='k')"
   ]
  },
  {
   "cell_type": "code",
   "execution_count": 69,
   "metadata": {},
   "outputs": [
    {
     "data": {
      "text/plain": [
       "array([[ 1.        , -0.49194246],\n",
       "       [-0.49194246,  1.        ]])"
      ]
     },
     "execution_count": 69,
     "metadata": {},
     "output_type": "execute_result"
    }
   ],
   "source": [
    "np.corrcoef(sCd, sEd)"
   ]
  },
  {
   "cell_type": "code",
   "execution_count": 70,
   "metadata": {},
   "outputs": [
    {
     "data": {
      "text/plain": [
       "LinregressResult(slope=-0.44602157561332634, intercept=-0.34148419422985693, rvalue=-0.4919424582727059, pvalue=1.5063019623227429e-06, stderr=0.08612602538593092)"
      ]
     },
     "execution_count": 70,
     "metadata": {},
     "output_type": "execute_result"
    }
   ],
   "source": [
    "from scipy.stats import linregress\n",
    "linregress(sCd, sEd)"
   ]
  },
  {
   "cell_type": "markdown",
   "metadata": {},
   "source": [
    "Under development"
   ]
  },
  {
   "cell_type": "code",
   "execution_count": 47,
   "metadata": {},
   "outputs": [
    {
     "name": "stderr",
     "output_type": "stream",
     "text": [
      "c:\\users\\liul.hhmi\\appdata\\local\\programs\\python\\python36\\lib\\site-packages\\h5py\\__init__.py:36: FutureWarning: Conversion of the second argument of issubdtype from `float` to `np.floating` is deprecated. In future, it will be treated as `np.float64 == np.dtype(float).type`.\n",
      "  from ._conv import register_converters as _register_converters\n"
     ]
    }
   ],
   "source": [
    "import h5py\n",
    "import numpy as np\n",
    "import scipy.io as spio"
   ]
  },
  {
   "cell_type": "code",
   "execution_count": 48,
   "metadata": {},
   "outputs": [],
   "source": [
    "#file=\"C:\\\\Users\\liul.HHMI\\Desktop\\\\tw5ap_imec3_opt3_jrc.mat\"\n",
    "file=\"C:\\\\Users\\liul.HHMI\\Desktop\\\\dl25_bitcode.mat\"\n",
    "mat = spio.loadmat(file, squeeze_me = True)"
   ]
  },
  {
   "cell_type": "code",
   "execution_count": 50,
   "metadata": {},
   "outputs": [
    {
     "data": {
      "text/plain": [
       "'0011001100010011'"
      ]
     },
     "execution_count": 50,
     "metadata": {},
     "output_type": "execute_result"
    }
   ],
   "source": [
    "bitCodeE = mat['bitCodeS'].flatten()\n",
    "bitCodeE[0]"
   ]
  },
  {
   "cell_type": "code",
   "execution_count": 51,
   "metadata": {},
   "outputs": [
    {
     "data": {
      "text/plain": [
       "'0000011101100111'"
      ]
     },
     "execution_count": 51,
     "metadata": {},
     "output_type": "execute_result"
    }
   ],
   "source": [
    "trialNote=ephys.experiment.TrialNote()\n",
    "sessionN2=3\n",
    "bitCodeB=(trialNote & {'subject_id': animal} & {'session': sessionN2} & {'trial_note_type' : 'bitcode'}).fetch('trial_note', order_by='trial')\n",
    "bitCodeB[0]"
   ]
  },
  {
   "cell_type": "code",
   "execution_count": 55,
   "metadata": {},
   "outputs": [
    {
     "data": {
      "text/plain": [
       "array(['0000011101100111'], dtype='<U16')"
      ]
     },
     "execution_count": 55,
     "metadata": {},
     "output_type": "execute_result"
    }
   ],
   "source": [
    "if len(bitCodeB) < len(bitCodeE): # behavior file is shorter\n",
    "    startB=np.where(bitCodeE==bitCodeB[0])[0]\n",
    "bitCodeE[startB]"
   ]
  },
  {
   "cell_type": "code",
   "execution_count": 56,
   "metadata": {},
   "outputs": [
    {
     "data": {
      "text/plain": [
       "492"
      ]
     },
     "execution_count": 56,
     "metadata": {},
     "output_type": "execute_result"
    }
   ],
   "source": [
    "len(bitCodeE)"
   ]
  },
  {
   "cell_type": "code",
   "execution_count": 83,
   "metadata": {},
   "outputs": [],
   "source": [
    "unit1=(spike & {'unit': goodUnits[25]} & {'subject_id': animal} & {'session': sessionN}).fetch('electrode')"
   ]
  },
  {
   "cell_type": "code",
   "execution_count": 1,
   "metadata": {},
   "outputs": [],
   "source": [
    "a = 1"
   ]
  },
  {
   "cell_type": "code",
   "execution_count": 2,
   "metadata": {},
   "outputs": [
    {
     "data": {
      "text/plain": [
       "-1"
      ]
     },
     "execution_count": 2,
     "metadata": {},
     "output_type": "execute_result"
    }
   ],
   "source": [
    "-a"
   ]
  },
  {
   "cell_type": "code",
   "execution_count": null,
   "metadata": {},
   "outputs": [],
   "source": [
    "140"
   ]
  }
 ],
 "metadata": {
  "kernelspec": {
   "display_name": "Python 3",
   "language": "python",
   "name": "python3"
  },
  "language_info": {
   "codemirror_mode": {
    "name": "ipython",
    "version": 3
   },
   "file_extension": ".py",
   "mimetype": "text/x-python",
   "name": "python",
   "nbconvert_exporter": "python",
   "pygments_lexer": "ipython3",
   "version": "3.6.5"
  }
 },
 "nbformat": 4,
 "nbformat_minor": 2
}
